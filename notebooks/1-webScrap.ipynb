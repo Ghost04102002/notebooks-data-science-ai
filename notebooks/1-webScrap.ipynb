{
 "cells": [
  {
   "cell_type": "code",
   "execution_count": 2,
   "id": "e7221264-4582-4641-8cef-a054ecb09b04",
   "metadata": {},
   "outputs": [],
   "source": [
    "from selenium import webdriver\n",
    "from selenium.webdriver.common.keys import Keys\n",
    "from selenium.webdriver.common.by import By\n",
    "import csv"
   ]
  },
  {
   "cell_type": "code",
   "execution_count": 3,
   "id": "4061d844-7309-46c1-901a-ea4ef864331e",
   "metadata": {},
   "outputs": [],
   "source": [
    "# Estableciendo pagina de inicio\n",
    "driver1 = webdriver.Chrome()\n",
    "driver1.get('https://books.toscrape.com/catalogue/page-47.html')"
   ]
  },
  {
   "cell_type": "code",
   "execution_count": 4,
   "id": "f751f118-19e4-492e-9db9-67905be0f4e8",
   "metadata": {},
   "outputs": [
    {
     "name": "stdout",
     "output_type": "stream",
     "text": [
      "No se encontro botón next\n"
     ]
    }
   ],
   "source": [
    "# Scraping de las ultimas 4 paginas\n",
    "with open(\"libros.csv\", \"w\", newline=\"\\n\", encoding=\"utf-8\") as f:\n",
    "    # n = int(driver1.find_element(By.XPATH, \"//li[@class='current']\").text.split()[-1])\n",
    "    writer = csv.writer(f)\n",
    "    driver2 = webdriver.Chrome()\n",
    "    for i in range(4):\n",
    "        elements = driver1.find_elements(By.XPATH, \"//h3/a\")\n",
    "        for element in elements:\n",
    "            driver2.get(element.get_attribute(\"href\"))\n",
    "            titulo = driver2.find_element(By.XPATH, \"//h1\").text\n",
    "            precio = driver2.find_element(By.XPATH, \"//div[contains(@class, 'product_main')]/p[@class='price_color']\").text\n",
    "            # print(titulo, precio)\n",
    "            writer.writerow([titulo, precio])\n",
    "        try:\n",
    "            next = driver1.find_element(By.XPATH, \"//li[@class='next']/a\")\n",
    "            next.click()\n",
    "        except:\n",
    "            print(\"No se encontro botón next\")"
   ]
  },
  {
   "cell_type": "code",
   "execution_count": 5,
   "id": "1837920e-179f-44c7-ba5f-374f36c12364",
   "metadata": {},
   "outputs": [],
   "source": [
    "driver3 = webdriver.Chrome()\n",
    "driver3.get(\"https://www.mercadolibre.com.ec/\")\n",
    "driver3.find_element(By.XPATH, \"//input[@id='cb1-edit']\").send_keys('juguetes')\n",
    "driver3.find_element(By.XPATH, \"//input[@id='cb1-edit']\").send_keys(Keys.RETURN)"
   ]
  }
 ],
 "metadata": {
  "kernelspec": {
   "display_name": "Python 3 (ipykernel)",
   "language": "python",
   "name": "python3"
  },
  "language_info": {
   "codemirror_mode": {
    "name": "ipython",
    "version": 3
   },
   "file_extension": ".py",
   "mimetype": "text/x-python",
   "name": "python",
   "nbconvert_exporter": "python",
   "pygments_lexer": "ipython3",
   "version": "3.12.9"
  }
 },
 "nbformat": 4,
 "nbformat_minor": 5
}
