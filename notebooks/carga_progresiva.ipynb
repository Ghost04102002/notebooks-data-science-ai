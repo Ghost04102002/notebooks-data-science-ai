{
 "cells": [
  {
   "cell_type": "code",
   "execution_count": 1,
   "metadata": {
    "id": "w5XC0FumHR58",
    "outputId": "10bea091-8208-4007-ac6e-4b665b5e43d8"
   },
   "outputs": [],
   "source": [
    "# ejemplo carga progresiva de imagenes desde archivos\n",
    "from tensorflow.keras.preprocessing.image import ImageDataGenerator"
   ]
  },
  {
   "cell_type": "code",
   "execution_count": 2,
   "metadata": {
    "id": "vtNteHxvHR5_"
   },
   "outputs": [],
   "source": [
    "# crear generador\n",
    "datagen = ImageDataGenerator()"
   ]
  },
  {
   "cell_type": "code",
   "execution_count": 3,
   "metadata": {
    "id": "IgaVlm8BHR5_",
    "outputId": "d7e5607a-a00d-4b1e-f746-f63d1c70a59f"
   },
   "outputs": [
    {
     "name": "stdout",
     "output_type": "stream",
     "text": [
      "Found 9 images belonging to 2 classes.\n",
      "Found 5 images belonging to 2 classes.\n",
      "Found 5 images belonging to 2 classes.\n"
     ]
    }
   ],
   "source": [
    "# preparar un iterador para cada  dataset\n",
    "train_it = datagen.flow_from_directory('data/train/', class_mode='binary')\n",
    "val_it = datagen.flow_from_directory('data/validation/', class_mode='binary')\n",
    "test_it = datagen.flow_from_directory('data/test/', class_mode='binary')"
   ]
  },
  {
   "cell_type": "code",
   "execution_count": 4,
   "metadata": {
    "id": "MROSq7h0HR6A",
    "outputId": "d067ae4d-01b0-4d8d-c1b6-b6b66ea87545"
   },
   "outputs": [
    {
     "name": "stdout",
     "output_type": "stream",
     "text": [
      "Batch shape=(9, 256, 256, 3), min=0.000, max=255.000\n"
     ]
    }
   ],
   "source": [
    "# confirmar el iterador\n",
    "batchX, batchy = next(train_it)\n",
    "\n",
    "print('Batch shape=%s, min=%.3f, max=%.3f' % (batchX.shape, batchX.min(), batchX.max()))"
   ]
  },
  {
   "cell_type": "code",
   "execution_count": null,
   "metadata": {
    "id": "gpw6SERSHR6A"
   },
   "outputs": [],
   "source": []
  }
 ],
 "metadata": {
  "colab": {
   "provenance": []
  },
  "kernelspec": {
   "display_name": "Python 3 (ipykernel)",
   "language": "python",
   "name": "python3"
  },
  "language_info": {
   "codemirror_mode": {
    "name": "ipython",
    "version": 3
   },
   "file_extension": ".py",
   "mimetype": "text/x-python",
   "name": "python",
   "nbconvert_exporter": "python",
   "pygments_lexer": "ipython3",
   "version": "3.12.9"
  }
 },
 "nbformat": 4,
 "nbformat_minor": 4
}
