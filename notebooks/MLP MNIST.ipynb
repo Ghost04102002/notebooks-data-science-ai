{
 "cells": [
  {
   "cell_type": "markdown",
   "metadata": {
    "id": "OpXSIznYogQr"
   },
   "source": [
    "## MLP\n",
    "\n",
    "MLP para clasificar imagenes del dataset MNIST.\n",
    "\n",
    "### 1. Cargar la base MNIST"
   ]
  },
  {
   "cell_type": "code",
   "execution_count": 1,
   "metadata": {
    "colab": {
     "base_uri": "https://localhost:8080/"
    },
    "executionInfo": {
     "elapsed": 5584,
     "status": "ok",
     "timestamp": 1686265058682,
     "user": {
      "displayName": "Enrique Peláez",
      "userId": "07107337089992634883"
     },
     "user_tz": 300
    },
    "id": "_kFWi0F4ogQt",
    "outputId": "655f39b1-1d51-441a-e7bc-aa2016666ea1"
   },
   "outputs": [
    {
     "name": "stdout",
     "output_type": "stream",
     "text": [
      "El dataset MNIST tiene un conjunto de 60000 ejemplos para entrenamiento.\n",
      "El dataset MNIST tiene un conjunto de 10000 ejemplos para prueba.\n"
     ]
    }
   ],
   "source": [
    "import warnings\n",
    "warnings.filterwarnings('ignore')\n",
    "from tensorflow.keras.datasets import mnist\n",
    "\n",
    "# Importar el dataset\n",
    "(X_train, y_train), (X_test, y_test) = mnist.load_data()\n",
    "\n",
    "print(\"El dataset MNIST tiene un conjunto de %d ejemplos para entrenamiento.\" % len(X_train))\n",
    "print(\"El dataset MNIST tiene un conjunto de %d ejemplos para prueba.\" % len(X_test))"
   ]
  },
  {
   "cell_type": "code",
   "execution_count": 2,
   "metadata": {
    "colab": {
     "base_uri": "https://localhost:8080/"
    },
    "executionInfo": {
     "elapsed": 7,
     "status": "ok",
     "timestamp": 1686265058683,
     "user": {
      "displayName": "Enrique Peláez",
      "userId": "07107337089992634883"
     },
     "user_tz": 300
    },
    "id": "JJIUwhjuws6t",
    "outputId": "20eae483-a901-427b-b265-430584bf4d7c"
   },
   "outputs": [
    {
     "name": "stdout",
     "output_type": "stream",
     "text": [
      "Base MNIST para entrenamiento con 60000 ejemplos\n",
      "Base MNIST para pruebas con 9990 ejemplos\n",
      "10 Ejemplos para predicción\n"
     ]
    },
    {
     "data": {
      "text/plain": [
       "(60000, 28, 28)"
      ]
     },
     "execution_count": 2,
     "metadata": {},
     "output_type": "execute_result"
    }
   ],
   "source": [
    "X_test1 = X_test[:-10,:] # reservamos 10 imágenes para predicción\n",
    "y_test1 = y_test[:-10]\n",
    "X_predict = X_test[-10:,:] # las 10 imágenes para predicción\n",
    "\n",
    "print(\"Base MNIST para entrenamiento con %d ejemplos\" % len(X_train))\n",
    "print(\"Base MNIST para pruebas con %d ejemplos\" % len(X_test1))\n",
    "print(\"%d Ejemplos para predicción\" % len(X_predict))\n",
    "X_train.shape"
   ]
  },
  {
   "cell_type": "markdown",
   "metadata": {
    "id": "sIkewfa0ogQu"
   },
   "source": [
    "### 2. Visualizar lunas imágenes de entrenamiento"
   ]
  },
  {
   "cell_type": "code",
   "execution_count": 3,
   "metadata": {
    "colab": {
     "base_uri": "https://localhost:8080/",
     "height": 280
    },
    "executionInfo": {
     "elapsed": 433,
     "status": "ok",
     "timestamp": 1686265059113,
     "user": {
      "displayName": "Enrique Peláez",
      "userId": "07107337089992634883"
     },
     "user_tz": 300
    },
    "id": "rTNMdTXAogQu",
    "outputId": "838f808b-e4dd-49b5-91c6-b52e9b893c3b"
   },
   "outputs": [],
   "source": [
    "import matplotlib.pyplot as plt\n",
    "%matplotlib inline\n",
    "import matplotlib.cm as cm\n",
    "import numpy as np\n",
    "\n",
    "# Visualicemos las 6 primeras imágenes de entrenamiento\n",
    "fig = plt.figure(figsize=(20,20))\n",
    "for i in range(6):\n",
    "    ax = fig.add_subplot(1, 6, i+1, xticks=[], yticks=[])\n",
    "    ax.imshow(X_train[i], cmap='gray')\n",
    "    ax.set_title(str(y_train[i]))"
   ]
  },
  {
   "cell_type": "markdown",
   "metadata": {
    "id": "W1XZJQIdogQv"
   },
   "source": [
    "### 3. Visualizar una imágen en más detalle"
   ]
  },
  {
   "cell_type": "code",
   "execution_count": 4,
   "metadata": {
    "colab": {
     "base_uri": "https://localhost:8080/",
     "height": 984
    },
    "executionInfo": {
     "elapsed": 4621,
     "status": "ok",
     "timestamp": 1686265063729,
     "user": {
      "displayName": "Enrique Peláez",
      "userId": "07107337089992634883"
     },
     "user_tz": 300
    },
    "id": "BoeuLKBWogQv",
    "outputId": "dbc63c06-c458-4c5c-ad85-2ab0c224c045"
   },
   "outputs": [],
   "source": [
    "def visualize_input(img, ax):\n",
    "    ax.imshow(img, cmap='gray')\n",
    "    width, height = img.shape\n",
    "    thresh = img.max()/2.5\n",
    "    for x in range(width):\n",
    "        for y in range(height):\n",
    "            ax.annotate(str(round(img[x][y],2)), xy=(y,x),\n",
    "                        horizontalalignment='center',\n",
    "                        verticalalignment='center',\n",
    "                        color='white' if img[x][y]<thresh else 'black')\n",
    "\n",
    "fig = plt.figure(figsize = (12,12)) \n",
    "ax = fig.add_subplot(111)\n",
    "visualize_input(X_train[3], ax)"
   ]
  },
  {
   "cell_type": "markdown",
   "metadata": {
    "id": "H0klwpoMogQv"
   },
   "source": [
    "### 4. Re-escalar las imágenes dividiendo cada pixel de cada imágen para 255"
   ]
  },
  {
   "cell_type": "code",
   "execution_count": 5,
   "metadata": {
    "executionInfo": {
     "elapsed": 30,
     "status": "ok",
     "timestamp": 1686265063730,
     "user": {
      "displayName": "Enrique Peláez",
      "userId": "07107337089992634883"
     },
     "user_tz": 300
    },
    "id": "X7G1DTfkogQw"
   },
   "outputs": [],
   "source": [
    "# re-escalar [0,255] --> [0,1]\n",
    "X_train = X_train.astype('float32')/255\n",
    "X_test1 = X_test1.astype('float32')/255\n",
    "X_predict = X_predict.astype('float32')/255"
   ]
  },
  {
   "cell_type": "markdown",
   "metadata": {
    "id": "4BnjPb5uogQw"
   },
   "source": [
    "### 5. Codificar las etiquetas como categorías usando el esquema One-Hot "
   ]
  },
  {
   "cell_type": "code",
   "execution_count": 6,
   "metadata": {
    "colab": {
     "base_uri": "https://localhost:8080/"
    },
    "executionInfo": {
     "elapsed": 29,
     "status": "ok",
     "timestamp": 1686265063730,
     "user": {
      "displayName": "Enrique Peláez",
      "userId": "07107337089992634883"
     },
     "user_tz": 300
    },
    "id": "iEr5VrkXogQw",
    "outputId": "9d2555d0-002e-4df2-c4ec-11f122cbfae1"
   },
   "outputs": [
    {
     "name": "stdout",
     "output_type": "stream",
     "text": [
      "Etiquetas de las 10 primeras imágenes:\n",
      "[5 0 4 1 9 2 1 3 1 4]\n"
     ]
    }
   ],
   "source": [
    "# 5. Codificar las etiquetas en categorías usando One-Hot \n",
    "\n",
    "from tensorflow.keras.utils import to_categorical\n",
    "\n",
    "\n",
    "# mostrar las primeras 10 etiquetas de entrenamiento (con valores enteros)\n",
    "print('Etiquetas de las 10 primeras imágenes:')\n",
    "print(y_train[:10])"
   ]
  },
  {
   "cell_type": "code",
   "execution_count": 7,
   "metadata": {
    "colab": {
     "base_uri": "https://localhost:8080/"
    },
    "executionInfo": {
     "elapsed": 26,
     "status": "ok",
     "timestamp": 1686265063730,
     "user": {
      "displayName": "Enrique Peláez",
      "userId": "07107337089992634883"
     },
     "user_tz": 300
    },
    "id": "qw2s5LNKogQw",
    "outputId": "9edc8bdc-5e32-4e22-925e-8f3f2a8721a8"
   },
   "outputs": [
    {
     "name": "stdout",
     "output_type": "stream",
     "text": [
      "Etiquetas de las 10 primeras imágenes en código one-hot:\n",
      "[[0. 0. 0. 0. 0. 1. 0. 0. 0. 0.]\n",
      " [1. 0. 0. 0. 0. 0. 0. 0. 0. 0.]\n",
      " [0. 0. 0. 0. 1. 0. 0. 0. 0. 0.]\n",
      " [0. 1. 0. 0. 0. 0. 0. 0. 0. 0.]\n",
      " [0. 0. 0. 0. 0. 0. 0. 0. 0. 1.]\n",
      " [0. 0. 1. 0. 0. 0. 0. 0. 0. 0.]\n",
      " [0. 1. 0. 0. 0. 0. 0. 0. 0. 0.]\n",
      " [0. 0. 0. 1. 0. 0. 0. 0. 0. 0.]\n",
      " [0. 1. 0. 0. 0. 0. 0. 0. 0. 0.]\n",
      " [0. 0. 0. 0. 1. 0. 0. 0. 0. 0.]]\n"
     ]
    }
   ],
   "source": [
    "# código one-hot de la etiqueta\n",
    "y_train = to_categorical(y_train, 10)\n",
    "y_test1 = to_categorical(y_test1, 10)\n",
    "\n",
    "# mostrar las primeras 10 etiquetas de entrenameinto (one-hot)\n",
    "print('Etiquetas de las 10 primeras imágenes en código one-hot:')\n",
    "print(y_train[:10])"
   ]
  },
  {
   "cell_type": "code",
   "execution_count": 8,
   "metadata": {
    "colab": {
     "base_uri": "https://localhost:8080/"
    },
    "executionInfo": {
     "elapsed": 25,
     "status": "ok",
     "timestamp": 1686265063731,
     "user": {
      "displayName": "Enrique Peláez",
      "userId": "07107337089992634883"
     },
     "user_tz": 300
    },
    "id": "sGXgOb2bogQx",
    "outputId": "ea548166-384c-452c-dc19-0dad74dcc4be"
   },
   "outputs": [
    {
     "data": {
      "text/plain": [
       "(60000, 28, 28)"
      ]
     },
     "execution_count": 8,
     "metadata": {},
     "output_type": "execute_result"
    }
   ],
   "source": [
    "X_train.shape"
   ]
  },
  {
   "cell_type": "markdown",
   "metadata": {
    "id": "oXN8jR6bogQx"
   },
   "source": [
    "### 6. Definición de la arquitectura del Modelo\n",
    "Arquitectura:\\\n",
    "1 vector de entrada de 784 valores\\\n",
    "2 capas ocultas con 512 neuronas cada una; y, función de activación Relu\\\n",
    "1 capa de salida con 10 neuronas con función de activación Softmax"
   ]
  },
  {
   "cell_type": "code",
   "execution_count": 9,
   "metadata": {
    "colab": {
     "base_uri": "https://localhost:8080/"
    },
    "executionInfo": {
     "elapsed": 405,
     "status": "ok",
     "timestamp": 1686265064112,
     "user": {
      "displayName": "Enrique Peláez",
      "userId": "07107337089992634883"
     },
     "user_tz": 300
    },
    "id": "EPUo6e8XogQx",
    "outputId": "df294a01-bfab-4d5c-88aa-ce353ee9b8fc"
   },
   "outputs": [
    {
     "data": {
      "text/html": [
       "<pre style=\"white-space:pre;overflow-x:auto;line-height:normal;font-family:Menlo,'DejaVu Sans Mono',consolas,'Courier New',monospace\"><span style=\"font-weight: bold\">Model: \"sequential\"</span>\n",
       "</pre>\n"
      ],
      "text/plain": [
       "\u001b[1mModel: \"sequential\"\u001b[0m\n"
      ]
     },
     "metadata": {},
     "output_type": "display_data"
    },
    {
     "data": {
      "text/html": [
       "<pre style=\"white-space:pre;overflow-x:auto;line-height:normal;font-family:Menlo,'DejaVu Sans Mono',consolas,'Courier New',monospace\">┏━━━━━━━━━━━━━━━━━━━━━━━━━━━━━━━━━┳━━━━━━━━━━━━━━━━━━━━━━━━┳━━━━━━━━━━━━━━━┓\n",
       "┃<span style=\"font-weight: bold\"> Layer (type)                    </span>┃<span style=\"font-weight: bold\"> Output Shape           </span>┃<span style=\"font-weight: bold\">       Param # </span>┃\n",
       "┡━━━━━━━━━━━━━━━━━━━━━━━━━━━━━━━━━╇━━━━━━━━━━━━━━━━━━━━━━━━╇━━━━━━━━━━━━━━━┩\n",
       "│ flatten (<span style=\"color: #0087ff; text-decoration-color: #0087ff\">Flatten</span>)               │ (<span style=\"color: #00d7ff; text-decoration-color: #00d7ff\">None</span>, <span style=\"color: #00af00; text-decoration-color: #00af00\">784</span>)            │             <span style=\"color: #00af00; text-decoration-color: #00af00\">0</span> │\n",
       "├─────────────────────────────────┼────────────────────────┼───────────────┤\n",
       "│ dense (<span style=\"color: #0087ff; text-decoration-color: #0087ff\">Dense</span>)                   │ (<span style=\"color: #00d7ff; text-decoration-color: #00d7ff\">None</span>, <span style=\"color: #00af00; text-decoration-color: #00af00\">512</span>)            │       <span style=\"color: #00af00; text-decoration-color: #00af00\">401,920</span> │\n",
       "├─────────────────────────────────┼────────────────────────┼───────────────┤\n",
       "│ dense_1 (<span style=\"color: #0087ff; text-decoration-color: #0087ff\">Dense</span>)                 │ (<span style=\"color: #00d7ff; text-decoration-color: #00d7ff\">None</span>, <span style=\"color: #00af00; text-decoration-color: #00af00\">512</span>)            │       <span style=\"color: #00af00; text-decoration-color: #00af00\">262,656</span> │\n",
       "├─────────────────────────────────┼────────────────────────┼───────────────┤\n",
       "│ dense_2 (<span style=\"color: #0087ff; text-decoration-color: #0087ff\">Dense</span>)                 │ (<span style=\"color: #00d7ff; text-decoration-color: #00d7ff\">None</span>, <span style=\"color: #00af00; text-decoration-color: #00af00\">10</span>)             │         <span style=\"color: #00af00; text-decoration-color: #00af00\">5,130</span> │\n",
       "└─────────────────────────────────┴────────────────────────┴───────────────┘\n",
       "</pre>\n"
      ],
      "text/plain": [
       "┏━━━━━━━━━━━━━━━━━━━━━━━━━━━━━━━━━┳━━━━━━━━━━━━━━━━━━━━━━━━┳━━━━━━━━━━━━━━━┓\n",
       "┃\u001b[1m \u001b[0m\u001b[1mLayer (type)                   \u001b[0m\u001b[1m \u001b[0m┃\u001b[1m \u001b[0m\u001b[1mOutput Shape          \u001b[0m\u001b[1m \u001b[0m┃\u001b[1m \u001b[0m\u001b[1m      Param #\u001b[0m\u001b[1m \u001b[0m┃\n",
       "┡━━━━━━━━━━━━━━━━━━━━━━━━━━━━━━━━━╇━━━━━━━━━━━━━━━━━━━━━━━━╇━━━━━━━━━━━━━━━┩\n",
       "│ flatten (\u001b[38;5;33mFlatten\u001b[0m)               │ (\u001b[38;5;45mNone\u001b[0m, \u001b[38;5;34m784\u001b[0m)            │             \u001b[38;5;34m0\u001b[0m │\n",
       "├─────────────────────────────────┼────────────────────────┼───────────────┤\n",
       "│ dense (\u001b[38;5;33mDense\u001b[0m)                   │ (\u001b[38;5;45mNone\u001b[0m, \u001b[38;5;34m512\u001b[0m)            │       \u001b[38;5;34m401,920\u001b[0m │\n",
       "├─────────────────────────────────┼────────────────────────┼───────────────┤\n",
       "│ dense_1 (\u001b[38;5;33mDense\u001b[0m)                 │ (\u001b[38;5;45mNone\u001b[0m, \u001b[38;5;34m512\u001b[0m)            │       \u001b[38;5;34m262,656\u001b[0m │\n",
       "├─────────────────────────────────┼────────────────────────┼───────────────┤\n",
       "│ dense_2 (\u001b[38;5;33mDense\u001b[0m)                 │ (\u001b[38;5;45mNone\u001b[0m, \u001b[38;5;34m10\u001b[0m)             │         \u001b[38;5;34m5,130\u001b[0m │\n",
       "└─────────────────────────────────┴────────────────────────┴───────────────┘\n"
      ]
     },
     "metadata": {},
     "output_type": "display_data"
    },
    {
     "data": {
      "text/html": [
       "<pre style=\"white-space:pre;overflow-x:auto;line-height:normal;font-family:Menlo,'DejaVu Sans Mono',consolas,'Courier New',monospace\"><span style=\"font-weight: bold\"> Total params: </span><span style=\"color: #00af00; text-decoration-color: #00af00\">669,706</span> (2.55 MB)\n",
       "</pre>\n"
      ],
      "text/plain": [
       "\u001b[1m Total params: \u001b[0m\u001b[38;5;34m669,706\u001b[0m (2.55 MB)\n"
      ]
     },
     "metadata": {},
     "output_type": "display_data"
    },
    {
     "data": {
      "text/html": [
       "<pre style=\"white-space:pre;overflow-x:auto;line-height:normal;font-family:Menlo,'DejaVu Sans Mono',consolas,'Courier New',monospace\"><span style=\"font-weight: bold\"> Trainable params: </span><span style=\"color: #00af00; text-decoration-color: #00af00\">669,706</span> (2.55 MB)\n",
       "</pre>\n"
      ],
      "text/plain": [
       "\u001b[1m Trainable params: \u001b[0m\u001b[38;5;34m669,706\u001b[0m (2.55 MB)\n"
      ]
     },
     "metadata": {},
     "output_type": "display_data"
    },
    {
     "data": {
      "text/html": [
       "<pre style=\"white-space:pre;overflow-x:auto;line-height:normal;font-family:Menlo,'DejaVu Sans Mono',consolas,'Courier New',monospace\"><span style=\"font-weight: bold\"> Non-trainable params: </span><span style=\"color: #00af00; text-decoration-color: #00af00\">0</span> (0.00 B)\n",
       "</pre>\n"
      ],
      "text/plain": [
       "\u001b[1m Non-trainable params: \u001b[0m\u001b[38;5;34m0\u001b[0m (0.00 B)\n"
      ]
     },
     "metadata": {},
     "output_type": "display_data"
    }
   ],
   "source": [
    "from tensorflow.keras.models import Sequential\n",
    "from tensorflow.keras.layers import Dense, Dropout, Flatten\n",
    "\n",
    "# definición del modelo\n",
    "model = Sequential()\n",
    "model.add(Flatten(input_shape=X_train.shape[1:]))\n",
    "model.add(Dense(512, activation='relu'))\n",
    "model.add(Dense(512, activation='relu'))\n",
    "model.add(Dense(10, activation='softmax'))\n",
    "\n",
    "# resumen del modelo\n",
    "model.summary()"
   ]
  },
  {
   "cell_type": "markdown",
   "metadata": {
    "id": "6HcgRwAMogQx"
   },
   "source": [
    "### 7. Compilar el Modelo"
   ]
  },
  {
   "cell_type": "code",
   "execution_count": 10,
   "metadata": {
    "executionInfo": {
     "elapsed": 3,
     "status": "ok",
     "timestamp": 1686265064113,
     "user": {
      "displayName": "Enrique Peláez",
      "userId": "07107337089992634883"
     },
     "user_tz": 300
    },
    "id": "0nvPKIrnogQx"
   },
   "outputs": [],
   "source": [
    "model.compile(loss='categorical_crossentropy', optimizer='rmsprop', metrics=['accuracy'])"
   ]
  },
  {
   "cell_type": "markdown",
   "metadata": {
    "id": "qc0MT4xeogQy"
   },
   "source": [
    "### 8. Sin entrenar todavía, sólo para comparar, calculemos la precisión del clasificador en el conjunto de prueba"
   ]
  },
  {
   "cell_type": "code",
   "execution_count": 11,
   "metadata": {
    "colab": {
     "base_uri": "https://localhost:8080/"
    },
    "executionInfo": {
     "elapsed": 1118,
     "status": "ok",
     "timestamp": 1686265065229,
     "user": {
      "displayName": "Enrique Peláez",
      "userId": "07107337089992634883"
     },
     "user_tz": 300
    },
    "id": "VIX9oVGRogQy",
    "outputId": "6228b171-602b-457c-9f93-0e0bf669cea6"
   },
   "outputs": [
    {
     "name": "stdout",
     "output_type": "stream",
     "text": [
      "Precisión en el conjunto de prueba: 16.7868%\n"
     ]
    }
   ],
   "source": [
    "# 8. Calcular la precisión del clasificador en el conjunto de pruebas (antes de entrenamiento)\n",
    "# evaluar la precisión en el conjunto de prueba\n",
    "score = model.evaluate(X_test1, y_test1, verbose=0)\n",
    "accuracy = 100*score[1]\n",
    "\n",
    "# mostrar la precisión del conjunto de prueba\n",
    "print('Precisión en el conjunto de prueba: %.4f%%' % accuracy)"
   ]
  },
  {
   "cell_type": "markdown",
   "metadata": {
    "id": "BuOFjUVmogQy"
   },
   "source": [
    "### 9. Entrenar el modelo"
   ]
  },
  {
   "cell_type": "code",
   "execution_count": 12,
   "metadata": {
    "colab": {
     "base_uri": "https://localhost:8080/"
    },
    "executionInfo": {
     "elapsed": 83014,
     "status": "ok",
     "timestamp": 1686265148240,
     "user": {
      "displayName": "Enrique Peláez",
      "userId": "07107337089992634883"
     },
     "user_tz": 300
    },
    "id": "SlU1ZNZ-ogQy",
    "outputId": "9a30afa9-bf23-4419-ea73-b18eea5a4675"
   },
   "outputs": [
    {
     "name": "stdout",
     "output_type": "stream",
     "text": [
      "Epoch 1/10\n",
      "\u001b[1m375/375\u001b[0m \u001b[32m━━━━━━━━━━━━━━━━━━━━\u001b[0m\u001b[37m\u001b[0m \u001b[1m0s\u001b[0m 8ms/step - accuracy: 0.8493 - loss: 0.4670\n",
      "Epoch 1: val_loss improved from None to 0.11876, saving model to mnist.model.best.keras\n",
      "\u001b[1m375/375\u001b[0m \u001b[32m━━━━━━━━━━━━━━━━━━━━\u001b[0m\u001b[37m\u001b[0m \u001b[1m5s\u001b[0m 10ms/step - accuracy: 0.9195 - loss: 0.2595 - val_accuracy: 0.9641 - val_loss: 0.1188\n",
      "Epoch 2/10\n",
      "\u001b[1m373/375\u001b[0m \u001b[32m━━━━━━━━━━━━━━━━━━━\u001b[0m\u001b[37m━\u001b[0m \u001b[1m0s\u001b[0m 9ms/step - accuracy: 0.9696 - loss: 0.0980\n",
      "Epoch 2: val_loss improved from 0.11876 to 0.09532, saving model to mnist.model.best.keras\n",
      "\u001b[1m375/375\u001b[0m \u001b[32m━━━━━━━━━━━━━━━━━━━━\u001b[0m\u001b[37m\u001b[0m \u001b[1m6s\u001b[0m 11ms/step - accuracy: 0.9720 - loss: 0.0923 - val_accuracy: 0.9710 - val_loss: 0.0953\n",
      "Epoch 3/10\n",
      "\u001b[1m372/375\u001b[0m \u001b[32m━━━━━━━━━━━━━━━━━━━\u001b[0m\u001b[37m━\u001b[0m \u001b[1m0s\u001b[0m 9ms/step - accuracy: 0.9814 - loss: 0.0585\n",
      "Epoch 3: val_loss improved from 0.09532 to 0.08642, saving model to mnist.model.best.keras\n",
      "\u001b[1m375/375\u001b[0m \u001b[32m━━━━━━━━━━━━━━━━━━━━\u001b[0m\u001b[37m\u001b[0m \u001b[1m4s\u001b[0m 10ms/step - accuracy: 0.9812 - loss: 0.0598 - val_accuracy: 0.9749 - val_loss: 0.0864\n",
      "Epoch 4/10\n",
      "\u001b[1m370/375\u001b[0m \u001b[32m━━━━━━━━━━━━━━━━━━━\u001b[0m\u001b[37m━\u001b[0m \u001b[1m0s\u001b[0m 9ms/step - accuracy: 0.9876 - loss: 0.0379 \n",
      "Epoch 4: val_loss improved from 0.08642 to 0.07578, saving model to mnist.model.best.keras\n",
      "\u001b[1m375/375\u001b[0m \u001b[32m━━━━━━━━━━━━━━━━━━━━\u001b[0m\u001b[37m\u001b[0m \u001b[1m4s\u001b[0m 10ms/step - accuracy: 0.9868 - loss: 0.0414 - val_accuracy: 0.9799 - val_loss: 0.0758\n",
      "Epoch 5/10\n",
      "\u001b[1m374/375\u001b[0m \u001b[32m━━━━━━━━━━━━━━━━━━━\u001b[0m\u001b[37m━\u001b[0m \u001b[1m0s\u001b[0m 9ms/step - accuracy: 0.9918 - loss: 0.0244 \n",
      "Epoch 5: val_loss did not improve from 0.07578\n",
      "\u001b[1m375/375\u001b[0m \u001b[32m━━━━━━━━━━━━━━━━━━━━\u001b[0m\u001b[37m\u001b[0m \u001b[1m4s\u001b[0m 11ms/step - accuracy: 0.9909 - loss: 0.0275 - val_accuracy: 0.9790 - val_loss: 0.0849\n",
      "Epoch 6/10\n",
      "\u001b[1m374/375\u001b[0m \u001b[32m━━━━━━━━━━━━━━━━━━━\u001b[0m\u001b[37m━\u001b[0m \u001b[1m0s\u001b[0m 9ms/step - accuracy: 0.9941 - loss: 0.0196 \n",
      "Epoch 6: val_loss did not improve from 0.07578\n",
      "\u001b[1m375/375\u001b[0m \u001b[32m━━━━━━━━━━━━━━━━━━━━\u001b[0m\u001b[37m\u001b[0m \u001b[1m4s\u001b[0m 11ms/step - accuracy: 0.9931 - loss: 0.0221 - val_accuracy: 0.9805 - val_loss: 0.0830\n",
      "Epoch 7/10\n",
      "\u001b[1m374/375\u001b[0m \u001b[32m━━━━━━━━━━━━━━━━━━━\u001b[0m\u001b[37m━\u001b[0m \u001b[1m0s\u001b[0m 9ms/step - accuracy: 0.9962 - loss: 0.0116\n",
      "Epoch 7: val_loss did not improve from 0.07578\n",
      "\u001b[1m375/375\u001b[0m \u001b[32m━━━━━━━━━━━━━━━━━━━━\u001b[0m\u001b[37m\u001b[0m \u001b[1m4s\u001b[0m 10ms/step - accuracy: 0.9952 - loss: 0.0149 - val_accuracy: 0.9770 - val_loss: 0.1013\n",
      "Epoch 8/10\n",
      "\u001b[1m370/375\u001b[0m \u001b[32m━━━━━━━━━━━━━━━━━━━\u001b[0m\u001b[37m━\u001b[0m \u001b[1m0s\u001b[0m 8ms/step - accuracy: 0.9966 - loss: 0.0100\n",
      "Epoch 8: val_loss did not improve from 0.07578\n",
      "\u001b[1m375/375\u001b[0m \u001b[32m━━━━━━━━━━━━━━━━━━━━\u001b[0m\u001b[37m\u001b[0m \u001b[1m4s\u001b[0m 9ms/step - accuracy: 0.9961 - loss: 0.0110 - val_accuracy: 0.9808 - val_loss: 0.0909\n",
      "Epoch 9/10\n",
      "\u001b[1m370/375\u001b[0m \u001b[32m━━━━━━━━━━━━━━━━━━━\u001b[0m\u001b[37m━\u001b[0m \u001b[1m0s\u001b[0m 9ms/step - accuracy: 0.9970 - loss: 0.0093\n",
      "Epoch 9: val_loss did not improve from 0.07578\n",
      "\u001b[1m375/375\u001b[0m \u001b[32m━━━━━━━━━━━━━━━━━━━━\u001b[0m\u001b[37m\u001b[0m \u001b[1m4s\u001b[0m 10ms/step - accuracy: 0.9969 - loss: 0.0097 - val_accuracy: 0.9809 - val_loss: 0.1015\n",
      "Epoch 10/10\n",
      "\u001b[1m370/375\u001b[0m \u001b[32m━━━━━━━━━━━━━━━━━━━\u001b[0m\u001b[37m━\u001b[0m \u001b[1m0s\u001b[0m 8ms/step - accuracy: 0.9982 - loss: 0.0057\n",
      "Epoch 10: val_loss did not improve from 0.07578\n",
      "\u001b[1m375/375\u001b[0m \u001b[32m━━━━━━━━━━━━━━━━━━━━\u001b[0m\u001b[37m\u001b[0m \u001b[1m4s\u001b[0m 10ms/step - accuracy: 0.9981 - loss: 0.0061 - val_accuracy: 0.9818 - val_loss: 0.0972\n"
     ]
    }
   ],
   "source": [
    "from tensorflow.keras.callbacks import ModelCheckpoint   \n",
    "\n",
    "# entrenar el modelo\n",
    "checkpointer = ModelCheckpoint(filepath='mnist.model.best.keras', verbose=1, save_best_only=True)\n",
    "\n",
    "hist = model.fit(X_train, y_train, batch_size=128, epochs=10,\n",
    "          validation_split=0.2, callbacks=[checkpointer],\n",
    "          verbose=1, shuffle=True)"
   ]
  },
  {
   "cell_type": "markdown",
   "metadata": {
    "id": "ifd4eN1GogQy"
   },
   "source": [
    "### 10. Cargar el modelo con la mejor precisión en el conjunto de validación "
   ]
  },
  {
   "cell_type": "code",
   "execution_count": 13,
   "metadata": {
    "executionInfo": {
     "elapsed": 6,
     "status": "ok",
     "timestamp": 1686265148241,
     "user": {
      "displayName": "Enrique Peláez",
      "userId": "07107337089992634883"
     },
     "user_tz": 300
    },
    "id": "upwicYPjogQy"
   },
   "outputs": [],
   "source": [
    "# cargar la matriz de pesos que produjeron la mejor precisión\n",
    "model.load_weights('mnist.model.best.keras')"
   ]
  },
  {
   "cell_type": "markdown",
   "metadata": {
    "id": "KS0OojPhogQy"
   },
   "source": [
    "### 11. Calcular la precisión de la clasificación en el conjunto de prueba"
   ]
  },
  {
   "cell_type": "code",
   "execution_count": 14,
   "metadata": {
    "executionInfo": {
     "elapsed": 1319,
     "status": "ok",
     "timestamp": 1686265149556,
     "user": {
      "displayName": "Enrique Peláez",
      "userId": "07107337089992634883"
     },
     "user_tz": 300
    },
    "id": "f9XXXCiUogQy"
   },
   "outputs": [],
   "source": [
    "# evaluar = Test la precisión en el conjunto de prueba\n",
    "score = model.evaluate(X_test1, y_test1, verbose=0)\n",
    "accuracy = 100*score[1]"
   ]
  },
  {
   "cell_type": "code",
   "execution_count": 15,
   "metadata": {
    "colab": {
     "base_uri": "https://localhost:8080/"
    },
    "executionInfo": {
     "elapsed": 11,
     "status": "ok",
     "timestamp": 1686265149556,
     "user": {
      "displayName": "Enrique Peláez",
      "userId": "07107337089992634883"
     },
     "user_tz": 300
    },
    "id": "hbV9ol4CogQy",
    "outputId": "c415ba29-eb7e-45ef-94ef-d31c215011c7"
   },
   "outputs": [
    {
     "name": "stdout",
     "output_type": "stream",
     "text": [
      "Precisión durante la prueba: 98.0480%\n"
     ]
    }
   ],
   "source": [
    "#mostrar la precisión en prubea\n",
    "print('Precisión durante la prueba: %.4f%%' % accuracy)"
   ]
  },
  {
   "cell_type": "code",
   "execution_count": 16,
   "metadata": {
    "colab": {
     "base_uri": "https://localhost:8080/"
    },
    "executionInfo": {
     "elapsed": 9,
     "status": "ok",
     "timestamp": 1686265149556,
     "user": {
      "displayName": "Enrique Peláez",
      "userId": "07107337089992634883"
     },
     "user_tz": 300
    },
    "id": "6xV7fgY-wT6O",
    "outputId": "3e65fe60-5415-475d-9455-0b7974f87d56"
   },
   "outputs": [
    {
     "name": "stdout",
     "output_type": "stream",
     "text": [
      "\u001b[1m1/1\u001b[0m \u001b[32m━━━━━━━━━━━━━━━━━━━━\u001b[0m\u001b[37m\u001b[0m \u001b[1m0s\u001b[0m 95ms/step\n",
      "[[0 0 0 0 0 0 0 1 0 0]\n",
      " [0 0 0 0 0 0 0 0 1 0]\n",
      " [0 0 0 0 0 0 0 0 0 1]\n",
      " [1 0 0 0 0 0 0 0 0 0]\n",
      " [0 1 0 0 0 0 0 0 0 0]\n",
      " [0 0 1 0 0 0 0 0 0 0]\n",
      " [0 0 0 1 0 0 0 0 0 0]\n",
      " [0 0 0 0 1 0 0 0 0 0]\n",
      " [0 0 0 0 0 1 0 0 0 0]\n",
      " [0 0 0 0 0 0 1 0 0 0]]\n"
     ]
    }
   ],
   "source": [
    "# predicción con las 10 imágenes no vistas antes\n",
    "\n",
    "result=model.predict(X_predict)\n",
    "labels = (result > 0.5).astype(int)\n",
    "\n",
    "print(labels)"
   ]
  },
  {
   "cell_type": "code",
   "execution_count": 17,
   "metadata": {
    "colab": {
     "base_uri": "https://localhost:8080/",
     "height": 103
    },
    "executionInfo": {
     "elapsed": 5,
     "status": "ok",
     "timestamp": 1686265149556,
     "user": {
      "displayName": "Enrique Peláez",
      "userId": "07107337089992634883"
     },
     "user_tz": 300
    },
    "id": "7RCp9yzB2SXN",
    "outputId": "d30ed2d2-9d95-4ad7-bb1a-580e4c3f69a3"
   },
   "outputs": [
    {
     "data": {
      "image/png": "[encoded data removed]",
      "text/plain": [
       "<Figure size 2000x2000 with 6 Axes>"
      ]
     },
     "metadata": {},
     "output_type": "display_data"
    },
    {
     "data": {
      "image/png": "[encoded data removed]",
      "text/plain": [
       "<Figure size 1200x1200 with 1 Axes>"
      ]
     },
     "metadata": {},
     "output_type": "display_data"
    },
    {
     "data": {
      "image/png": "[encoded data removed]",
      "text/plain": [
       "<Figure size 500x500 with 5 Axes>"
      ]
     },
     "metadata": {},
     "output_type": "display_data"
    }
   ],
   "source": [
    "# graficar las 4 primeras imágenes nuevas\n",
    "fig = plt.figure(figsize=(5,5))\n",
    "for i in range(5):\n",
    "    ax = fig.add_subplot(1, 5, i+1, xticks=[], yticks=[])\n",
    "    ax.imshow(X_predict[i], cmap='gray')\n",
    "plt.show()"
   ]
  }
 ],
 "metadata": {
  "anaconda-cloud": {},
  "colab": {
   "provenance": []
  },
  "kernelspec": {
   "display_name": "Python 3 (ipykernel)",
   "language": "python",
   "name": "python3"
  },
  "language_info": {
   "codemirror_mode": {
    "name": "ipython",
    "version": 3
   },
   "file_extension": ".py",
   "mimetype": "text/x-python",
   "name": "python",
   "nbconvert_exporter": "python",
   "pygments_lexer": "ipython3",
   "version": "3.12.9"
  }
 },
 "nbformat": 4,
 "nbformat_minor": 4
}
